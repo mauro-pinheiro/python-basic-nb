{
 "metadata": {
  "language_info": {
   "codemirror_mode": {
    "name": "ipython",
    "version": 3
   },
   "file_extension": ".py",
   "mimetype": "text/x-python",
   "name": "python",
   "nbconvert_exporter": "python",
   "pygments_lexer": "ipython3",
   "version": "3.8.3-final"
  },
  "orig_nbformat": 2,
  "kernelspec": {
   "name": "python3",
   "display_name": "Python 3"
  }
 },
 "nbformat": 4,
 "nbformat_minor": 2,
 "cells": [
  {
   "source": [
    "<center><img src=\"ifma.png\" height=\"200\" /><center>"
   ],
   "cell_type": "markdown",
   "metadata": {}
  },
  {
   "source": [
    "<center>\n",
    "    <h2>Curso: Sistemas de Informação</h2>\n",
    "    <h2>Aluno: Mauro Sergio Campos Pinheiro</h2>\n",
    "    <h2>Python para Ciência dos Dados - 2020.1</h2>\n",
    "</center>"
   ],
   "cell_type": "markdown",
   "metadata": {}
  },
  {
   "source": [
    "# Atividade Python Básico"
   ],
   "cell_type": "markdown",
   "metadata": {}
  },
  {
   "source": [
    "# Análise do dano por segundo das especialização de DPS disponíveis em WOW."
   ],
   "cell_type": "markdown",
   "metadata": {}
  },
  {
   "source": [
    "## Definição de variáveis:\n",
    "- clazz: Lista de classes disponíveis no jogo.\n",
    "- spec: Mapa de especialização e classe a qual pertence.\n",
    "- score: A pontuação da especialização em relação ao dano que causa (Normalizada)."
   ],
   "cell_type": "markdown",
   "metadata": {}
  },
  {
   "cell_type": "code",
   "execution_count": 5,
   "metadata": {},
   "outputs": [],
   "source": [
    "clazz = [\"Death Knight\", \"Demon Hunter\",\"Druid\",\"Hunter\",\"Mage\",\"Monk\",\n",
    "         \"Paladin\",\"Priest\",\"Rouge\",\"Shaman\",\"Warlock\",\"Warrior\"]\n",
    "spec = {\n",
    "    \"Unholy\": clazz[0],\n",
    "    \"Frosty\": clazz[0],\n",
    "    \"Havoc\": clazz[1],\n",
    "    \"Balance\": clazz[2],\n",
    "    \"Feral\": clazz[2],\n",
    "    \"Beast Mastery\": clazz[3],\n",
    "    \"Marksmanship\": clazz[3],\n",
    "    \"Survival\": clazz[3],\n",
    "    \"Arcane\": clazz[4],\n",
    "    \"Frost\": clazz[4],\n",
    "    \"Fire\": clazz[4],\n",
    "    \"Windwalker\": clazz[5],\n",
    "    \"Retribution\": clazz[6],\n",
    "    \"Shadow\": clazz[7],\n",
    "    \"Outlaw\": clazz[8],\n",
    "    \"Subtlety\": clazz[8],\n",
    "    \"Assassination\": clazz[8],\n",
    "    \"Elemental\": clazz[9],\n",
    "    \"Enhancement\": clazz[9],\n",
    "    \"Affliction\": clazz[10],\n",
    "    \"Demonology\": clazz[10],\n",
    "    \"Destruction\": clazz[10],\n",
    "    \"Arms\": clazz[11],\n",
    "    \"Fury\": clazz[11],\n",
    "}\n",
    "\n",
    "score = {\n",
    "    \"Unholy\": 86.39,\n",
    "    \"Frosty\": 74.26,\n",
    "    \"Havoc\": 71.83,\n",
    "    \"Balance\": 83.14,\n",
    "    \"Feral\": 68.42,\n",
    "    \"Beast Mastery\": 90.65,\n",
    "    \"Marksmanship\": 82.49,\n",
    "    \"Survival\": 76.73,\n",
    "    \"Arcane\": 92.60,\n",
    "    \"Frost\": 85.52,\n",
    "    \"Fire\": 83.61,\n",
    "    \"Windwalker\": 68.71,\n",
    "    \"Retribution\": 76.00,\n",
    "    \"Shadow\": 98.69,\n",
    "    \"Outlaw\": 78.20,\n",
    "    \"Subtlety\": 77.75,\n",
    "    \"Assassination\": 75.98,\n",
    "    \"Elemental\": 85.28,\n",
    "    \"Enhancement\": 74.42,\n",
    "    \"Affliction\": 94.88,\n",
    "    \"Demonology\": 83.53,\n",
    "    \"Destruction\": 81.54,\n",
    "    \"Arms\": 76.77,\n",
    "    \"Fury\": 70.28\n",
    "}"
   ]
  },
  {
   "source": [
    "## Função make_data\n",
    "Recebe uma especialização e constrói os dados"
   ],
   "cell_type": "markdown",
   "metadata": {}
  },
  {
   "cell_type": "code",
   "execution_count": 6,
   "metadata": {},
   "outputs": [],
   "source": [
    "def make_data(x):\n",
    "    return {\"especialização\": x, \"pontuação\": score[x]};"
   ]
  },
  {
   "source": [
    "## Construção da lista de dados usando a funcao make_data"
   ],
   "cell_type": "markdown",
   "metadata": {}
  },
  {
   "cell_type": "code",
   "execution_count": 7,
   "metadata": {},
   "outputs": [
    {
     "output_type": "execute_result",
     "data": {
      "text/plain": [
       "[{'especialização': 'Unholy', 'pontuação': 86.39},\n",
       " {'especialização': 'Frosty', 'pontuação': 74.26},\n",
       " {'especialização': 'Havoc', 'pontuação': 71.83},\n",
       " {'especialização': 'Balance', 'pontuação': 83.14},\n",
       " {'especialização': 'Feral', 'pontuação': 68.42},\n",
       " {'especialização': 'Beast Mastery', 'pontuação': 90.65},\n",
       " {'especialização': 'Marksmanship', 'pontuação': 82.49},\n",
       " {'especialização': 'Survival', 'pontuação': 76.73},\n",
       " {'especialização': 'Arcane', 'pontuação': 92.6},\n",
       " {'especialização': 'Frost', 'pontuação': 85.52},\n",
       " {'especialização': 'Fire', 'pontuação': 83.61},\n",
       " {'especialização': 'Windwalker', 'pontuação': 68.71},\n",
       " {'especialização': 'Retribution', 'pontuação': 76.0},\n",
       " {'especialização': 'Shadow', 'pontuação': 98.69},\n",
       " {'especialização': 'Outlaw', 'pontuação': 78.2},\n",
       " {'especialização': 'Subtlety', 'pontuação': 77.75},\n",
       " {'especialização': 'Assassination', 'pontuação': 75.98},\n",
       " {'especialização': 'Elemental', 'pontuação': 85.28},\n",
       " {'especialização': 'Enhancement', 'pontuação': 74.42},\n",
       " {'especialização': 'Affliction', 'pontuação': 94.88},\n",
       " {'especialização': 'Demonology', 'pontuação': 83.53},\n",
       " {'especialização': 'Destruction', 'pontuação': 81.54},\n",
       " {'especialização': 'Arms', 'pontuação': 76.77},\n",
       " {'especialização': 'Fury', 'pontuação': 70.28}]"
      ]
     },
     "metadata": {},
     "execution_count": 7
    }
   ],
   "source": [
    "data = [make_data(x) for x in spec]\n",
    "data"
   ]
  },
  {
   "source": [
    "## Questão 1\n",
    "Filtragem com e sem list comprehension"
   ],
   "cell_type": "markdown",
   "metadata": {}
  },
  {
   "source": [
    "## As 5 melhores especialiações."
   ],
   "cell_type": "markdown",
   "metadata": {}
  },
  {
   "source": [
    "### Primeiro ordenamos os dados por pontuacao em ordem descrescente"
   ],
   "cell_type": "markdown",
   "metadata": {}
  },
  {
   "cell_type": "code",
   "execution_count": 8,
   "metadata": {},
   "outputs": [
    {
     "output_type": "execute_result",
     "data": {
      "text/plain": [
       "[{'especialização': 'Shadow', 'pontuação': 98.69},\n",
       " {'especialização': 'Affliction', 'pontuação': 94.88},\n",
       " {'especialização': 'Arcane', 'pontuação': 92.6},\n",
       " {'especialização': 'Beast Mastery', 'pontuação': 90.65},\n",
       " {'especialização': 'Unholy', 'pontuação': 86.39},\n",
       " {'especialização': 'Frost', 'pontuação': 85.52},\n",
       " {'especialização': 'Elemental', 'pontuação': 85.28},\n",
       " {'especialização': 'Fire', 'pontuação': 83.61},\n",
       " {'especialização': 'Demonology', 'pontuação': 83.53},\n",
       " {'especialização': 'Balance', 'pontuação': 83.14},\n",
       " {'especialização': 'Marksmanship', 'pontuação': 82.49},\n",
       " {'especialização': 'Destruction', 'pontuação': 81.54},\n",
       " {'especialização': 'Outlaw', 'pontuação': 78.2},\n",
       " {'especialização': 'Subtlety', 'pontuação': 77.75},\n",
       " {'especialização': 'Arms', 'pontuação': 76.77},\n",
       " {'especialização': 'Survival', 'pontuação': 76.73},\n",
       " {'especialização': 'Retribution', 'pontuação': 76.0},\n",
       " {'especialização': 'Assassination', 'pontuação': 75.98},\n",
       " {'especialização': 'Enhancement', 'pontuação': 74.42},\n",
       " {'especialização': 'Frosty', 'pontuação': 74.26},\n",
       " {'especialização': 'Havoc', 'pontuação': 71.83},\n",
       " {'especialização': 'Fury', 'pontuação': 70.28},\n",
       " {'especialização': 'Windwalker', 'pontuação': 68.71},\n",
       " {'especialização': 'Feral', 'pontuação': 68.42}]"
      ]
     },
     "metadata": {},
     "execution_count": 8
    }
   ],
   "source": [
    "sorted_data = sorted(data, key=lambda k: k['pontuação'],reverse=True)\n",
    "sorted_data"
   ]
  },
  {
   "source": [
    "### Sem list comprehension"
   ],
   "cell_type": "markdown",
   "metadata": {}
  },
  {
   "cell_type": "code",
   "execution_count": 9,
   "metadata": {},
   "outputs": [
    {
     "output_type": "execute_result",
     "data": {
      "text/plain": [
       "[{'especialização': 'Shadow', 'pontuação': 98.69},\n",
       " {'especialização': 'Affliction', 'pontuação': 94.88},\n",
       " {'especialização': 'Arcane', 'pontuação': 92.6},\n",
       " {'especialização': 'Beast Mastery', 'pontuação': 90.65},\n",
       " {'especialização': 'Unholy', 'pontuação': 86.39}]"
      ]
     },
     "metadata": {},
     "execution_count": 9
    }
   ],
   "source": [
    "filtred_data = []\n",
    "for i in range(5):\n",
    "    filtred_data.append(sorted_data[i])\n",
    "filtred_data"
   ]
  },
  {
   "source": [
    "### Com list comprehension"
   ],
   "cell_type": "markdown",
   "metadata": {}
  },
  {
   "cell_type": "code",
   "execution_count": 10,
   "metadata": {},
   "outputs": [
    {
     "output_type": "execute_result",
     "data": {
      "text/plain": [
       "[{'especialização': 'Shadow', 'pontuação': 98.69},\n",
       " {'especialização': 'Affliction', 'pontuação': 94.88},\n",
       " {'especialização': 'Arcane', 'pontuação': 92.6},\n",
       " {'especialização': 'Beast Mastery', 'pontuação': 90.65},\n",
       " {'especialização': 'Unholy', 'pontuação': 86.39}]"
      ]
     },
     "metadata": {},
     "execution_count": 10
    }
   ],
   "source": [
    "filtred_data = [sorted_data[i] for i in range(5)]\n",
    "filtred_data"
   ]
  },
  {
   "source": [
    "## As Especializações cujo o dano tem pontuação pelo menos 85"
   ],
   "cell_type": "markdown",
   "metadata": {}
  },
  {
   "source": [
    "### Sem list comprehension"
   ],
   "cell_type": "markdown",
   "metadata": {}
  },
  {
   "cell_type": "code",
   "execution_count": 11,
   "metadata": {},
   "outputs": [
    {
     "output_type": "execute_result",
     "data": {
      "text/plain": [
       "[{'especialização': 'Unholy', 'pontuação': 86.39},\n",
       " {'especialização': 'Beast Mastery', 'pontuação': 90.65},\n",
       " {'especialização': 'Arcane', 'pontuação': 92.6},\n",
       " {'especialização': 'Frost', 'pontuação': 85.52},\n",
       " {'especialização': 'Shadow', 'pontuação': 98.69},\n",
       " {'especialização': 'Elemental', 'pontuação': 85.28},\n",
       " {'especialização': 'Affliction', 'pontuação': 94.88}]"
      ]
     },
     "metadata": {},
     "execution_count": 11
    }
   ],
   "source": [
    "filtred_data = []\n",
    "for x in data:\n",
    "    if(x['pontuação'] >= 85):\n",
    "      filtred_data.append(x)\n",
    "filtred_data"
   ]
  },
  {
   "source": [
    "### Com list comprehension"
   ],
   "cell_type": "markdown",
   "metadata": {}
  },
  {
   "cell_type": "code",
   "execution_count": 12,
   "metadata": {},
   "outputs": [
    {
     "output_type": "execute_result",
     "data": {
      "text/plain": [
       "[{'especialização': 'Unholy', 'pontuação': 86.39},\n",
       " {'especialização': 'Beast Mastery', 'pontuação': 90.65},\n",
       " {'especialização': 'Arcane', 'pontuação': 92.6},\n",
       " {'especialização': 'Frost', 'pontuação': 85.52},\n",
       " {'especialização': 'Shadow', 'pontuação': 98.69},\n",
       " {'especialização': 'Elemental', 'pontuação': 85.28},\n",
       " {'especialização': 'Affliction', 'pontuação': 94.88}]"
      ]
     },
     "metadata": {},
     "execution_count": 12
    }
   ],
   "source": [
    "filtred_data = [x for x in data if x['pontuação'] > 85]\n",
    "filtred_data"
   ]
  },
  {
   "source": [
    "## Questão 2\n",
    "## Criar uma função que funcione como o join do SQL"
   ],
   "cell_type": "markdown",
   "metadata": {}
  },
  {
   "source": [
    "### Constrói a base de dados que relaciona uma especialização com sua repectiva classe\n"
   ],
   "cell_type": "markdown",
   "metadata": {}
  },
  {
   "cell_type": "code",
   "execution_count": 13,
   "metadata": {},
   "outputs": [
    {
     "output_type": "execute_result",
     "data": {
      "text/plain": [
       "[{'classe': 'Death Knight', 'especialização': 'Unholy'},\n",
       " {'classe': 'Death Knight', 'especialização': 'Frosty'},\n",
       " {'classe': 'Demon Hunter', 'especialização': 'Havoc'},\n",
       " {'classe': 'Druid', 'especialização': 'Balance'},\n",
       " {'classe': 'Druid', 'especialização': 'Feral'},\n",
       " {'classe': 'Hunter', 'especialização': 'Beast Mastery'},\n",
       " {'classe': 'Hunter', 'especialização': 'Marksmanship'},\n",
       " {'classe': 'Hunter', 'especialização': 'Survival'},\n",
       " {'classe': 'Mage', 'especialização': 'Arcane'},\n",
       " {'classe': 'Mage', 'especialização': 'Frost'},\n",
       " {'classe': 'Mage', 'especialização': 'Fire'},\n",
       " {'classe': 'Monk', 'especialização': 'Windwalker'},\n",
       " {'classe': 'Paladin', 'especialização': 'Retribution'},\n",
       " {'classe': 'Priest', 'especialização': 'Shadow'},\n",
       " {'classe': 'Rouge', 'especialização': 'Outlaw'},\n",
       " {'classe': 'Rouge', 'especialização': 'Subtlety'},\n",
       " {'classe': 'Rouge', 'especialização': 'Assassination'},\n",
       " {'classe': 'Shaman', 'especialização': 'Elemental'},\n",
       " {'classe': 'Shaman', 'especialização': 'Enhancement'},\n",
       " {'classe': 'Warlock', 'especialização': 'Affliction'},\n",
       " {'classe': 'Warlock', 'especialização': 'Demonology'},\n",
       " {'classe': 'Warlock', 'especialização': 'Destruction'},\n",
       " {'classe': 'Warrior', 'especialização': 'Arms'},\n",
       " {'classe': 'Warrior', 'especialização': 'Fury'}]"
      ]
     },
     "metadata": {},
     "execution_count": 13
    }
   ],
   "source": [
    "def make_outro_data(x):\n",
    "    return {\"classe\": spec[x], \"especialização\": x}\n",
    "outro_data = [make_outro_data(x) for x in spec]\n",
    "outro_data"
   ]
  },
  {
   "source": [
    "### Definir a função join_dict que recebe 2 dicionários e a chave em comum"
   ],
   "cell_type": "markdown",
   "metadata": {}
  },
  {
   "cell_type": "code",
   "execution_count": 14,
   "metadata": {},
   "outputs": [],
   "source": [
    "def join_dict(A,B,key):\n",
    "    if(A[key] != B[key]):\n",
    "        return dict()\n",
    "\n",
    "    kA = [k for k in A.keys()]\n",
    "    kB = [k for k in B.keys()]\n",
    "    keys = set(kA + kB)\n",
    "    ret = dict()\n",
    "    for k in kA:\n",
    "        if(k != key):\n",
    "            ret[k] = A[k]\n",
    "    ret[key] = A[key]\n",
    "    for k in kB:\n",
    "        if(k != key):\n",
    "            ret[k] = B[k]\n",
    "    return ret"
   ]
  },
  {
   "source": [
    "Testando"
   ],
   "cell_type": "markdown",
   "metadata": {}
  },
  {
   "cell_type": "code",
   "execution_count": 15,
   "metadata": {},
   "outputs": [
    {
     "output_type": "execute_result",
     "data": {
      "text/plain": [
       "{'pontuação': 86.39, 'especialização': 'Unholy', 'classe': 'Death Knight'}"
      ]
     },
     "metadata": {},
     "execution_count": 15
    }
   ],
   "source": [
    "join_dict(data[0], outro_data[0], 'especialização')"
   ]
  },
  {
   "source": [
    "### Cria a funcao join_list_of_dict que junta duas lista de dicionário usando uma chave em comum."
   ],
   "cell_type": "markdown",
   "metadata": {}
  },
  {
   "cell_type": "code",
   "execution_count": 16,
   "metadata": {},
   "outputs": [],
   "source": [
    "def join_list_of_dict(A,B,key):\n",
    "    ret = []\n",
    "    for x in A:\n",
    "        for y in [z for z in B if z[key] == x[key]]:\n",
    "            ret.append(join_dict(x,y, key))\n",
    "    return ret"
   ]
  },
  {
   "source": [
    "### Usa a funcao para contruir uma lista de dicionario que relaciona a especialização com sua pontuação e sua classe.\n",
    "- Junta **data** com **outro_data** usando a chave *especialização*"
   ],
   "cell_type": "markdown",
   "metadata": {}
  },
  {
   "cell_type": "code",
   "execution_count": 17,
   "metadata": {},
   "outputs": [
    {
     "output_type": "execute_result",
     "data": {
      "text/plain": [
       "[{'pontuação': 86.39, 'especialização': 'Unholy', 'classe': 'Death Knight'},\n",
       " {'pontuação': 74.26, 'especialização': 'Frosty', 'classe': 'Death Knight'},\n",
       " {'pontuação': 71.83, 'especialização': 'Havoc', 'classe': 'Demon Hunter'},\n",
       " {'pontuação': 83.14, 'especialização': 'Balance', 'classe': 'Druid'},\n",
       " {'pontuação': 68.42, 'especialização': 'Feral', 'classe': 'Druid'},\n",
       " {'pontuação': 90.65, 'especialização': 'Beast Mastery', 'classe': 'Hunter'},\n",
       " {'pontuação': 82.49, 'especialização': 'Marksmanship', 'classe': 'Hunter'},\n",
       " {'pontuação': 76.73, 'especialização': 'Survival', 'classe': 'Hunter'},\n",
       " {'pontuação': 92.6, 'especialização': 'Arcane', 'classe': 'Mage'},\n",
       " {'pontuação': 85.52, 'especialização': 'Frost', 'classe': 'Mage'},\n",
       " {'pontuação': 83.61, 'especialização': 'Fire', 'classe': 'Mage'},\n",
       " {'pontuação': 68.71, 'especialização': 'Windwalker', 'classe': 'Monk'},\n",
       " {'pontuação': 76.0, 'especialização': 'Retribution', 'classe': 'Paladin'},\n",
       " {'pontuação': 98.69, 'especialização': 'Shadow', 'classe': 'Priest'},\n",
       " {'pontuação': 78.2, 'especialização': 'Outlaw', 'classe': 'Rouge'},\n",
       " {'pontuação': 77.75, 'especialização': 'Subtlety', 'classe': 'Rouge'},\n",
       " {'pontuação': 75.98, 'especialização': 'Assassination', 'classe': 'Rouge'},\n",
       " {'pontuação': 85.28, 'especialização': 'Elemental', 'classe': 'Shaman'},\n",
       " {'pontuação': 74.42, 'especialização': 'Enhancement', 'classe': 'Shaman'},\n",
       " {'pontuação': 94.88, 'especialização': 'Affliction', 'classe': 'Warlock'},\n",
       " {'pontuação': 83.53, 'especialização': 'Demonology', 'classe': 'Warlock'},\n",
       " {'pontuação': 81.54, 'especialização': 'Destruction', 'classe': 'Warlock'},\n",
       " {'pontuação': 76.77, 'especialização': 'Arms', 'classe': 'Warrior'},\n",
       " {'pontuação': 70.28, 'especialização': 'Fury', 'classe': 'Warrior'}]"
      ]
     },
     "metadata": {},
     "execution_count": 17
    }
   ],
   "source": [
    "final_data = join_list_of_dict(data, outro_data, 'especialização')\n",
    "final_data"
   ]
  },
  {
   "source": [
    "## Questão 3\n",
    "Seja L1 = \\[1,2,3,4\\] e L2 = \\[1,2,3,4\\] avalie e justifique sua respostas para os dois casos abaixo:\n",
    "- L1 == L2\n",
    "- L1 is L2"
   ],
   "cell_type": "markdown",
   "metadata": {}
  },
  {
   "cell_type": "code",
   "execution_count": 18,
   "metadata": {},
   "outputs": [],
   "source": [
    "L1 = [1,2,3,4]\n",
    "L2 = [1,2,3,4]"
   ]
  },
  {
   "cell_type": "code",
   "execution_count": 19,
   "metadata": {},
   "outputs": [
    {
     "output_type": "execute_result",
     "data": {
      "text/plain": [
       "True"
      ]
     },
     "metadata": {},
     "execution_count": 19
    }
   ],
   "source": [
    "L1 == L2"
   ]
  },
  {
   "source": [
    "O operador == compara duas lista elemento por elemento, assim, como *L1* e *L2* tem exatamente os mesmo elementos,\n",
    "a comparação retorna verdadeiro"
   ],
   "cell_type": "markdown",
   "metadata": {}
  },
  {
   "cell_type": "code",
   "execution_count": 20,
   "metadata": {},
   "outputs": [
    {
     "output_type": "execute_result",
     "data": {
      "text/plain": [
       "False"
      ]
     },
     "metadata": {},
     "execution_count": 20
    }
   ],
   "source": [
    "L1 is L2"
   ]
  },
  {
   "source": [
    "O operador *is* compara as posições de memória, como L1 e L2 são objetos diferentes, eles tem posições de memória diferentes,\n",
    "logo a comparação é falsa."
   ],
   "cell_type": "markdown",
   "metadata": {}
  },
  {
   "cell_type": "code",
   "execution_count": 21,
   "metadata": {},
   "outputs": [
    {
     "output_type": "execute_result",
     "data": {
      "text/plain": [
       "True"
      ]
     },
     "metadata": {},
     "execution_count": 21
    }
   ],
   "source": [
    "L3 = L2\n",
    "L3 is L2"
   ]
  },
  {
   "source": [
    "Nesse caso como foi atribuido para L3 a lista L2, ou seja, L3 recebe a posição de memoria do L2, então o operador *is* retorna verdadeiro,\n",
    "visto que ele compara as posições de memória."
   ],
   "cell_type": "markdown",
   "metadata": {}
  },
  {
   "source": [
    "## Questão 4\n",
    "### Exemplo de função com parametros posicionais e identificados"
   ],
   "cell_type": "markdown",
   "metadata": {}
  },
  {
   "source": [
    "Funcao filtra lista de dicionarios\n",
    "- Recebe:\n",
    "    - data: o dataset\n",
    "    - field: o campo para usar na filtragem\n",
    "    - value: o valor do campo\n",
    "    - operator: pode ser =, >, <, >=, <=, !="
   ],
   "cell_type": "markdown",
   "metadata": {}
  },
  {
   "cell_type": "code",
   "execution_count": 22,
   "metadata": {},
   "outputs": [],
   "source": [
    "def where(data, field, value ,operator='='):\n",
    "    if operator=='=':\n",
    "        return [x for x in data if x[field] == value]\n",
    "    if operator=='>':\n",
    "        return [x for x in data if x[field] > value]\n",
    "    if operator=='>=':\n",
    "        return [x for x in data if x[field] >= value]\n",
    "    if operator=='<':\n",
    "        return [x for x in data if x[field] < value]\n",
    "    if operator=='<=':\n",
    "        return [x for x in data if x[field] <= value]\n",
    "    if operator=='!=':\n",
    "        return [x for x in data if x[field] != value]\n",
    "    return []"
   ]
  },
  {
   "cell_type": "code",
   "execution_count": 23,
   "metadata": {},
   "outputs": [
    {
     "output_type": "execute_result",
     "data": {
      "text/plain": [
       "[{'pontuação': 92.6, 'especialização': 'Arcane', 'classe': 'Mage'},\n",
       " {'pontuação': 85.52, 'especialização': 'Frost', 'classe': 'Mage'},\n",
       " {'pontuação': 83.61, 'especialização': 'Fire', 'classe': 'Mage'}]"
      ]
     },
     "metadata": {},
     "execution_count": 23
    }
   ],
   "source": [
    "where(final_data, 'classe', 'Mage')"
   ]
  },
  {
   "cell_type": "code",
   "execution_count": 24,
   "metadata": {},
   "outputs": [
    {
     "output_type": "execute_result",
     "data": {
      "text/plain": [
       "[{'pontuação': 90.65, 'especialização': 'Beast Mastery', 'classe': 'Hunter'},\n",
       " {'pontuação': 92.6, 'especialização': 'Arcane', 'classe': 'Mage'},\n",
       " {'pontuação': 98.69, 'especialização': 'Shadow', 'classe': 'Priest'},\n",
       " {'pontuação': 94.88, 'especialização': 'Affliction', 'classe': 'Warlock'}]"
      ]
     },
     "metadata": {},
     "execution_count": 24
    }
   ],
   "source": [
    "where(final_data, 'pontuação', 90, operator='>')"
   ]
  },
  {
   "source": [
    "## Questão 5\n",
    "### Percorrer duas lista e imprimir seus elementos relacionados"
   ],
   "cell_type": "markdown",
   "metadata": {}
  },
  {
   "cell_type": "code",
   "execution_count": 25,
   "metadata": {},
   "outputs": [
    {
     "output_type": "stream",
     "name": "stdout",
     "text": [
      "jan 244\nfev 373\nmar 428\nabr 476\nmai 317\njun 173\njul 131\nago 29\nset 23\nout 8\nnov 11\ndez 77\n"
     ]
    }
   ],
   "source": [
    "meses = ['jan', 'fev', 'mar', 'abr', 'mai','jun','jul','ago','set','out','nov','dez']\n",
    "precipitacao = [244,373,428,476,317,173,131,29,23,8,11,77]\n",
    "\n",
    "for (m, p) in zip(meses, precipitacao):\n",
    "    print(m,p)\n"
   ]
  },
  {
   "source": [
    "## Questao 6\n",
    "### Escreva uma função que devolva uma matriz transposta a partir de uma dada em forma de lista de listas. De exemplos de uso."
   ],
   "cell_type": "markdown",
   "metadata": {}
  },
  {
   "cell_type": "code",
   "execution_count": 26,
   "metadata": {},
   "outputs": [
    {
     "output_type": "execute_result",
     "data": {
      "text/plain": [
       "[[1.0, 2.0, 3.0], [4.0, 5.0, 6.0], [7.0, 8.0, 9.0], [0.0, 0.0, 0.0]]"
      ]
     },
     "metadata": {},
     "execution_count": 26
    }
   ],
   "source": [
    "matriz = [[ 1.,  2.,  3.],\n",
    "       [ 4.,  5.,  6.],\n",
    "       [ 7.,  8.,  9.],\n",
    "       [0., 0., 0.,]]\n",
    "matriz"
   ]
  },
  {
   "cell_type": "code",
   "execution_count": 27,
   "metadata": {},
   "outputs": [
    {
     "output_type": "execute_result",
     "data": {
      "text/plain": [
       "[[1.0, 4.0, 7.0, 0.0], [2.0, 5.0, 8.0, 0.0], [3.0, 6.0, 9.0, 0.0]]"
      ]
     },
     "metadata": {},
     "execution_count": 27
    }
   ],
   "source": [
    "def transposta(m):\n",
    "    L = len(matriz)\n",
    "    C = len(matriz[0])\n",
    "    ret = []\n",
    "    for i in range(C):              #para cada coluna na matriz\n",
    "        ret.append([])              #cria uma linha na trasposta\n",
    "        for j in range(L):          #para cada linha na coluna\n",
    "            ret[i].append(m[j][i])  #coloca o elemento na linha da trasposta\n",
    "    return ret\n",
    "\n",
    "transposta(matriz)\n",
    "            "
   ]
  }
 ]
}